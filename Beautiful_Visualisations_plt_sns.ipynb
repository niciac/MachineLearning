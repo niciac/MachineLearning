{
 "cells": [
  {
   "cell_type": "markdown",
   "metadata": {},
   "source": [
    "Original tutorial: https://towardsdatascience.com/a-simple-guide-to-beautiful-visualizations-in-python-f564e6b9d392\n"
   ]
  },
  {
   "cell_type": "code",
   "execution_count": null,
   "metadata": {},
   "outputs": [],
   "source": [
    "import seaborn as sns\n",
    "import pandas as pd\n",
    "import matplotlib.pyplot as plt\n",
    "from pathlib import Path as path"
   ]
  },
  {
   "cell_type": "code",
   "execution_count": null,
   "metadata": {},
   "outputs": [],
   "source": [
    "# import configuration from ini file\n",
    "\n",
    "from configparser import ConfigParser\n",
    "\n",
    "config_file = path('config.ini')\n",
    "config = ConfigParser()\n",
    "config.read(config_file)\n",
    "\n",
    "dataset_path = config['paths']['DATASET_PATH']\n",
    "print(dataset_path)"
   ]
  },
  {
   "cell_type": "markdown",
   "metadata": {},
   "source": [
    "Globally set graph style and font size"
   ]
  },
  {
   "cell_type": "code",
   "execution_count": null,
   "metadata": {},
   "outputs": [],
   "source": [
    "sns.set_style('darkgrid') # darkgrid, white grid, dark, white and ticks\n",
    "\n",
    "## HAD AN ISSUE WITH THICKER EDGE COLOR WITH SCATTER PLOT FOR BLINKING PIXELS\n",
    "\n",
    "plt.rc('axes', titlesize=18)     # fontsize of the axes title\n",
    "plt.rc('axes', labelsize=14)    # fontsize of the x and y labels\n",
    "plt.rc('xtick', labelsize=13)    # fontsize of the tick labels\n",
    "plt.rc('ytick', labelsize=13)    # fontsize of the tick labels\n",
    "plt.rc('legend', fontsize=13)    # legend fontsize\n",
    "plt.rc('font', size=13)          # controls default text sizes"
   ]
  },
  {
   "cell_type": "markdown",
   "metadata": {},
   "source": [
    "Examples of seaborn palettes"
   ]
  },
  {
   "cell_type": "code",
   "execution_count": null,
   "metadata": {},
   "outputs": [],
   "source": [
    "sns.color_palette('deep')"
   ]
  },
  {
   "cell_type": "code",
   "execution_count": null,
   "metadata": {},
   "outputs": [],
   "source": [
    "sns.color_palette('pastel')"
   ]
  },
  {
   "cell_type": "code",
   "execution_count": null,
   "metadata": {},
   "outputs": [],
   "source": [
    "sns.color_palette('Set2')"
   ]
  },
  {
   "cell_type": "code",
   "execution_count": null,
   "metadata": {},
   "outputs": [],
   "source": [
    "sns.color_palette('colorblind')"
   ]
  },
  {
   "cell_type": "code",
   "execution_count": null,
   "metadata": {},
   "outputs": [],
   "source": [
    "sns.color_palette('deep')[0]"
   ]
  },
  {
   "cell_type": "code",
   "execution_count": null,
   "metadata": {},
   "outputs": [],
   "source": [
    "sns.color_palette('colorblind')[0]"
   ]
  },
  {
   "cell_type": "markdown",
   "metadata": {},
   "source": [
    "Starting to play with actual data\n",
    "Importing the path library to point to the dataset file"
   ]
  },
  {
   "cell_type": "code",
   "execution_count": null,
   "metadata": {},
   "outputs": [],
   "source": [
    "from pathlib import Path as path\n",
    "dataset_file = path(dataset_path, 'players_20.csv')"
   ]
  },
  {
   "cell_type": "code",
   "execution_count": null,
   "metadata": {},
   "outputs": [],
   "source": [
    "df_fifa21 = pd.read_csv(dataset_file)\n",
    "\n",
    "countries_of_interest = ['United States', 'Canada', 'England', 'Brazil', 'Argentina']\n",
    "\n",
    "df_country = df_fifa21[df_fifa21['nationality'].isin(countries_of_interest)]"
   ]
  },
  {
   "cell_type": "markdown",
   "metadata": {},
   "source": [
    "Preparing the data for the plot"
   ]
  },
  {
   "cell_type": "code",
   "execution_count": null,
   "metadata": {},
   "outputs": [],
   "source": [
    "barplot = df_country.groupby(['nationality'], as_index=False).mean()[['nationality', 'overall']]"
   ]
  },
  {
   "cell_type": "code",
   "execution_count": null,
   "metadata": {},
   "outputs": [],
   "source": [
    "plt.figure(figsize=(8,4), tight_layout=True)\n",
    "colors = sns.color_palette('pastel')\n",
    "plt.bar(barplot['nationality'], barplot['overall'], color=colors[:5])\n",
    "plt.xlabel('Nationality')\n",
    "plt.ylabel('Average Rating')\n",
    "plt.title('Barplot')\n",
    "plt.show()"
   ]
  },
  {
   "cell_type": "markdown",
   "metadata": {},
   "source": [
    "Get only the top 20 players from each country"
   ]
  },
  {
   "cell_type": "code",
   "execution_count": null,
   "metadata": {},
   "outputs": [],
   "source": [
    "new_df = pd.concat(\n",
    "[df_country[df_country['nationality']=='Argentina'][:20], \n",
    " df_country[df_country['nationality']=='Brazil'][:20], \n",
    " df_country[df_country['nationality']=='England'][:20], \n",
    " df_country[df_country['nationality']=='Canada'][:20], \n",
    " df_country[df_country['nationality']=='United States'][:20]]\n",
    ")"
   ]
  },
  {
   "cell_type": "code",
   "execution_count": null,
   "metadata": {},
   "outputs": [],
   "source": [
    "barplot = new_df.groupby(['nationality'], as_index=False).mean()[['nationality', 'overall']]"
   ]
  },
  {
   "cell_type": "code",
   "execution_count": null,
   "metadata": {},
   "outputs": [],
   "source": [
    "plt.figure(figsize=(8,4), tight_layout=True)\n",
    "ax = sns.barplot(x=barplot['nationality'], y=barplot['overall'], palette='pastel', ci=None)\n",
    "ax.set(title='Ratings per Nationality', xlabel='Nationality', ylabel='Average Rating')\n",
    "plt.show()"
   ]
  },
  {
   "cell_type": "markdown",
   "metadata": {},
   "source": [
    "The below does not work as 'league_name' does not exist in the current df"
   ]
  },
  {
   "cell_type": "code",
   "execution_count": null,
   "metadata": {},
   "outputs": [],
   "source": [
    "# Preprocessing\n",
    "# barplot = df_country[df_country['league_name'].isin(['Spain Primera Division', 'Italian Serie A', 'German 1. Bundesliga'])]\n",
    "# barplot = barplot.groupby(['nationality', 'league_name'], as_index=False).count()"
   ]
  },
  {
   "cell_type": "code",
   "execution_count": null,
   "metadata": {},
   "outputs": [],
   "source": [
    "plt.figure(figsize=(10,6), tight_layout=True)\n",
    "bins = [160, 165, 170, 175, 180, 185, 190, 195, 200]\n",
    "# matplotlib\n",
    "plt.hist(df_country['height_cm'], bins=bins, color=sns.color_palette('colorblind')[2], linewidth=2)\n",
    "plt.title('Histogram')\n",
    "plt.xlabel('Height (cm)')\n",
    "plt.ylabel('Count')"
   ]
  },
  {
   "cell_type": "code",
   "execution_count": null,
   "metadata": {},
   "outputs": [],
   "source": [
    "plt.figure(figsize=(10,6), tight_layout=True)\n",
    "ax = sns.boxplot(data=df_country, x='nationality', y='height_cm', palette='colorblind', linewidth=2.5)\n",
    "ax.set(title='Boxplot', xlabel='', ylabel='Height (cm)')\n",
    "plt.show()"
   ]
  },
  {
   "cell_type": "code",
   "execution_count": null,
   "metadata": {},
   "outputs": [],
   "source": [
    "plt.figure(figsize=(10,6), tight_layout=True)\n",
    "ax = sns.scatterplot(data=df_country, x='height_cm', y='weight_kg',   hue='nationality', palette='Set2', s=60)\n",
    "ax.set(xlabel='Height (cm)', ylabel='Weight (kg)')\n",
    "ax.legend(title='Country', title_fontsize = 12) \n",
    "plt.show()"
   ]
  },
  {
   "cell_type": "code",
   "execution_count": null,
   "metadata": {},
   "outputs": [],
   "source": [
    "# Preprocessing\n",
    "piechart = df_fifa21[df_fifa21['club']=='Real Madrid']\n",
    "piechart = piechart.sort_values('value_eur', ascending=False)[['short_name', 'value_eur']]\n",
    "piechart = piechart[:11]"
   ]
  },
  {
   "cell_type": "code",
   "execution_count": null,
   "metadata": {},
   "outputs": [],
   "source": [
    "colors = sns.color_palette('pastel')\n",
    "plt.figure(figsize=(7, 6), tight_layout=True)\n",
    "explode_list = [0, 0, 0, 0, 0, 0, 0, 0, 0, 0, 0.2]\n",
    "plt.pie(piechart['value_eur'], labels=piechart['short_name'], autopct='%.0f %%', explode=explode_list, pctdistance=.7,\n",
    "          colors=colors, shadow=True)\n",
    "plt.title('Real Madrid', weight='bold')\n",
    "plt.show()"
   ]
  },
  {
   "cell_type": "code",
   "execution_count": null,
   "metadata": {},
   "outputs": [],
   "source": [
    "#subplots\n",
    "fig, ax = plt.subplots(1,2, figsize=(12, 5), tight_layout=True)\n",
    "\n",
    "# Preprocessing\n",
    "piechart2 = df_fifa21[df_fifa21['nationality']=='Wales']\n",
    "piechart2 = piechart2[:10].sort_values('value_eur')[['short_name', 'value_eur']]\n",
    "\n",
    "colors = sns.color_palette('pastel')\n",
    "\n",
    "explode_list = [0, 0, 0, 0, 0, 0, 0, 0, 0, 0, 0.2]\n",
    "ax[0].pie(piechart['value_eur'], labels=piechart['short_name'], autopct='%.0f %%', explode=explode_list, pctdistance=.7,\n",
    "          colors=colors, shadow=True)\n",
    "ax[0].set_title('Real Madrid', weight='bold')\n",
    "\n",
    "explode_list = [0, 0, 0, 0, 0, 0, 0, 0, 0, 0.1]\n",
    "ax[1].pie(piechart2['value_eur'], labels=piechart2['short_name'], autopct='%.0f %%', explode=explode_list, pctdistance=.7,\n",
    "          colors=colors, shadow=True)\n",
    "ax[1].set_title('USA', weight='bold')\n",
    "\n",
    "plt.show()"
   ]
  }
 ],
 "metadata": {
  "interpreter": {
   "hash": "555eb2bc19ceb6642323a51f444ff1946d1cbef2eb8cd5fd8fcdf090cdb24e43"
  },
  "kernelspec": {
   "display_name": "Python 3.9.0 ('ml_env': venv)",
   "language": "python",
   "name": "python3"
  },
  "language_info": {
   "codemirror_mode": {
    "name": "ipython",
    "version": 3
   },
   "file_extension": ".py",
   "mimetype": "text/x-python",
   "name": "python",
   "nbconvert_exporter": "python",
   "pygments_lexer": "ipython3",
   "version": "3.9.0"
  }
 },
 "nbformat": 4,
 "nbformat_minor": 2
}
