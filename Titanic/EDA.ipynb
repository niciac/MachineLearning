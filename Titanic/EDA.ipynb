{
 "cells": [
  {
   "cell_type": "code",
   "execution_count": null,
   "metadata": {},
   "outputs": [],
   "source": [
    "import pandas as pd\n",
    "from pathlib import Path as path\n",
    "import numpy as np\n",
    "import matplotlib.pyplot as plt\n",
    "import seaborn as sns"
   ]
  },
  {
   "cell_type": "code",
   "execution_count": null,
   "metadata": {},
   "outputs": [],
   "source": [
    "import yaml\n",
    "\n",
    "def get_config(config_file_path:path=path('../config.yml')):# -> dict:\n",
    "    with open(config_file_path) as config_file:\n",
    "        config = yaml.safe_load(config_file)\n",
    "    return config\n",
    "\n",
    "settings = get_config()\n",
    "dataset_path = settings['paths']['dataset_path']\n",
    "print(dataset_path)"
   ]
  },
  {
   "cell_type": "code",
   "execution_count": null,
   "metadata": {},
   "outputs": [],
   "source": [
    "sns.set_style('darkgrid') # darkgrid, white grid, dark, white and ticks\n",
    "\n",
    "plt.rc('axes', titlesize=18)     # fontsize of the axes title\n",
    "plt.rc('axes', labelsize=14)    # fontsize of the x and y labels\n",
    "plt.rc('xtick', labelsize=13)    # fontsize of the tick labels\n",
    "plt.rc('ytick', labelsize=13)    # fontsize of the tick labels\n",
    "plt.rc('legend', fontsize=13)    # legend fontsize\n",
    "plt.rc('font', size=13)          # controls default text sizes"
   ]
  },
  {
   "cell_type": "code",
   "execution_count": null,
   "metadata": {},
   "outputs": [],
   "source": [
    "train_data_path = path(dataset_path,'Titanic/train.csv')\n",
    "train_df = pd.read_csv(train_data_path)\n",
    "train_df.describe()"
   ]
  },
  {
   "cell_type": "code",
   "execution_count": null,
   "metadata": {},
   "outputs": [],
   "source": [
    "train_df.info()"
   ]
  },
  {
   "cell_type": "code",
   "execution_count": null,
   "metadata": {},
   "outputs": [],
   "source": [
    "train_df.hist(bins=50, figsize=(20,15))"
   ]
  },
  {
   "cell_type": "code",
   "execution_count": null,
   "metadata": {},
   "outputs": [],
   "source": [
    "heatmap_data = train_df.corr()\n",
    "\n",
    "print(heatmap_data['Survived'])\n",
    "\n",
    "names = heatmap_data.columns.to_list()\n",
    "\n",
    "fig,ax = plt.subplots(figsize=(12,10))\n",
    "ax = sns.heatmap(heatmap_data,cbar_kws={\"orientation\": \"vertical\"},cmap='viridis')\n",
    "plt.xticks(rotation=45)\n",
    "plt.yticks(rotation='horizontal')"
   ]
  },
  {
   "cell_type": "code",
   "execution_count": null,
   "metadata": {},
   "outputs": [],
   "source": [
    "from pandas.plotting import scatter_matrix\n",
    "\n",
    "numerical_attrs = (train_df.select_dtypes(exclude=['object','bool'])\n",
    "                            .columns.to_list())\n",
    "\n",
    "scatter_matrix(train_df[numerical_attrs], figsize=(15,12), diagonal='kde')\n",
    "plt.suptitle('Scatter Matrix of Numerical Features')"
   ]
  },
  {
   "cell_type": "code",
   "execution_count": null,
   "metadata": {},
   "outputs": [],
   "source": [
    "from sklearn.preprocessing import OrdinalEncoder\n",
    "\n",
    "ordinal_encoder = OrdinalEncoder()\n",
    "encoded_df = ordinal_encoder.fit_transform(train_df[['Sex', 'Survived']])\n",
    "encoded_df = pd.DataFrame(encoded_df)\n",
    "\n",
    "ordinal_encoded_df = (pd.concat([train_df,encoded_df], axis=1)\n",
    "                    .drop(['Sex', 'Survived'],axis=1)\n",
    "                    .rename(columns={0:'Sex_enc',1:'Survived_enc'})\n",
    "                    .astype({'Sex_enc':int,'Survived_enc':int}))"
   ]
  },
  {
   "cell_type": "code",
   "execution_count": null,
   "metadata": {},
   "outputs": [],
   "source": [
    "ordinal_encoded_df.head()"
   ]
  },
  {
   "cell_type": "code",
   "execution_count": null,
   "metadata": {},
   "outputs": [],
   "source": [
    "ordinal_encoded_df.hist(bins=50, figsize=(20,15))"
   ]
  },
  {
   "cell_type": "code",
   "execution_count": null,
   "metadata": {},
   "outputs": [],
   "source": [
    "fig,ax = plt.subplots(figsize=(12,10))\n",
    "\n",
    "ax = sns.histplot(ordinal_encoded_df['Pclass'], stat='count', discrete=True, palette='deep')\n",
    "\n",
    "ax.set(title='Passengers per Class',\n",
    "        xticks = np.arange(1,4,1),\n",
    "        xticklabels = [f'Pclass {x}' for x in range(1,4,1)],\n",
    "        xlabel = None,\n",
    "        xlim = (0,4),\n",
    "        ylabel = 'Passengers',\n",
    "        yticks = (np.arange(0,500,50))\n",
    "        )\n",
    "\n",
    "plt.show()"
   ]
  },
  {
   "cell_type": "code",
   "execution_count": null,
   "metadata": {},
   "outputs": [],
   "source": [
    "fig,axs = plt.subplots(figsize=(24,10), nrows=2, ncols=3, sharey=True, tight_layout=True, dpi=750)\n",
    "\n",
    "for idx_row,row in enumerate(axs):\n",
    "    for idx_column,col in enumerate(row):\n",
    "        if idx_row==0:\n",
    "            sns.histplot(data=ordinal_encoded_df[train_df['Pclass']==idx_column+1], x='Survived_enc',\n",
    "                            stat='count', discrete=True, palette='deep',ax=axs[idx_row,idx_column],\n",
    "                            hue='Survived_enc', alpha=1)\n",
    "            axs[idx_row,idx_column].set(title=f'Class {idx_column+1} Survived vs Deceased',\n",
    "                            xticks = np.arange(0,2,1),\n",
    "                            ylabel = 'Passenger count',\n",
    "                            )\n",
    "        if idx_row==1:\n",
    "            sns.histplot(data=ordinal_encoded_df[train_df['Pclass']==idx_column+1], x='Survived_enc',\n",
    "                            stat='count', discrete=True, palette='deep',ax=axs[idx_row,idx_column],\n",
    "                            hue='Sex_enc', multiple='dodge',shrink=0.7,alpha=1)\n",
    "            axs[idx_row,idx_column].set(title=f'Class {idx_column+1} Survived vs Deceased',\n",
    "                            xticks = np.arange(0,2,1),\n",
    "                            ylabel = 'Passenger count',\n",
    "                            )\n",
    "\n",
    "filename = \"PClass_Graphs.png\"\n",
    "overwrite = False\n",
    "\n",
    "if path(filename).exists() and overwrite:\n",
    "    fig.savefig(path(\"PClass_Graphs.png\"))\n",
    "plt.show()"
   ]
  }
 ],
 "metadata": {
  "kernelspec": {
   "display_name": "Python 3.9.0 ('ml_env': venv)",
   "language": "python",
   "name": "python3"
  },
  "language_info": {
   "codemirror_mode": {
    "name": "ipython",
    "version": 3
   },
   "file_extension": ".py",
   "mimetype": "text/x-python",
   "name": "python",
   "nbconvert_exporter": "python",
   "pygments_lexer": "ipython3",
   "version": "3.9.0"
  },
  "vscode": {
   "interpreter": {
    "hash": "555eb2bc19ceb6642323a51f444ff1946d1cbef2eb8cd5fd8fcdf090cdb24e43"
   }
  }
 },
 "nbformat": 4,
 "nbformat_minor": 2
}
