{
 "metadata": {
  "language_info": {
   "codemirror_mode": {
    "name": "ipython",
    "version": 3
   },
   "file_extension": ".py",
   "mimetype": "text/x-python",
   "name": "python",
   "nbconvert_exporter": "python",
   "pygments_lexer": "ipython3",
   "version": "3.9.0"
  },
  "orig_nbformat": 2,
  "kernelspec": {
   "name": "python390jvsc74a57bd0aee8b7b246df8f9039afb4144a1f6fd8d2ca17a180786b69acc140d282b71a49",
   "display_name": "Python 3.9.0 64-bit"
  }
 },
 "nbformat": 4,
 "nbformat_minor": 2,
 "cells": [
  {
   "source": [
    "The dataset:\n",
    "https://www.kaggle.com/budincsevity/szeged-weather\n",
    "The tutorial:\n",
    "https://towardsdatascience.com/a-brief-tour-of-scikit-learn-sklearn-6e829a9db2fd"
   ],
   "cell_type": "markdown",
   "metadata": {}
  },
  {
   "cell_type": "code",
   "execution_count": 2,
   "metadata": {},
   "outputs": [],
   "source": [
    "import pandas as pd\n",
    "from pathlib import Path as path"
   ]
  },
  {
   "cell_type": "code",
   "execution_count": 3,
   "metadata": {},
   "outputs": [],
   "source": [
    "data_csv = path('/Users/nicolas/Documents/VSCode/MachineLearning/Datasets/weatherHistory.csv')\n",
    "df = pd.read_csv(data_csv)"
   ]
  },
  {
   "cell_type": "code",
   "execution_count": 4,
   "metadata": {},
   "outputs": [
    {
     "output_type": "execute_result",
     "data": {
      "text/plain": [
       "                  Formatted Date        Summary Precip Type  Temperature (C)  \\\n",
       "0  2006-04-01 00:00:00.000 +0200  Partly Cloudy        rain         9.472222   \n",
       "1  2006-04-01 01:00:00.000 +0200  Partly Cloudy        rain         9.355556   \n",
       "2  2006-04-01 02:00:00.000 +0200  Mostly Cloudy        rain         9.377778   \n",
       "3  2006-04-01 03:00:00.000 +0200  Partly Cloudy        rain         8.288889   \n",
       "4  2006-04-01 04:00:00.000 +0200  Mostly Cloudy        rain         8.755556   \n",
       "\n",
       "   Apparent Temperature (C)  Humidity  Wind Speed (km/h)  \\\n",
       "0                  7.388889      0.89            14.1197   \n",
       "1                  7.227778      0.86            14.2646   \n",
       "2                  9.377778      0.89             3.9284   \n",
       "3                  5.944444      0.83            14.1036   \n",
       "4                  6.977778      0.83            11.0446   \n",
       "\n",
       "   Wind Bearing (degrees)  Visibility (km)  Loud Cover  Pressure (millibars)  \\\n",
       "0                   251.0          15.8263         0.0               1015.13   \n",
       "1                   259.0          15.8263         0.0               1015.63   \n",
       "2                   204.0          14.9569         0.0               1015.94   \n",
       "3                   269.0          15.8263         0.0               1016.41   \n",
       "4                   259.0          15.8263         0.0               1016.51   \n",
       "\n",
       "                       Daily Summary  \n",
       "0  Partly cloudy throughout the day.  \n",
       "1  Partly cloudy throughout the day.  \n",
       "2  Partly cloudy throughout the day.  \n",
       "3  Partly cloudy throughout the day.  \n",
       "4  Partly cloudy throughout the day.  "
      ],
      "text/html": "<div>\n<style scoped>\n    .dataframe tbody tr th:only-of-type {\n        vertical-align: middle;\n    }\n\n    .dataframe tbody tr th {\n        vertical-align: top;\n    }\n\n    .dataframe thead th {\n        text-align: right;\n    }\n</style>\n<table border=\"1\" class=\"dataframe\">\n  <thead>\n    <tr style=\"text-align: right;\">\n      <th></th>\n      <th>Formatted Date</th>\n      <th>Summary</th>\n      <th>Precip Type</th>\n      <th>Temperature (C)</th>\n      <th>Apparent Temperature (C)</th>\n      <th>Humidity</th>\n      <th>Wind Speed (km/h)</th>\n      <th>Wind Bearing (degrees)</th>\n      <th>Visibility (km)</th>\n      <th>Loud Cover</th>\n      <th>Pressure (millibars)</th>\n      <th>Daily Summary</th>\n    </tr>\n  </thead>\n  <tbody>\n    <tr>\n      <th>0</th>\n      <td>2006-04-01 00:00:00.000 +0200</td>\n      <td>Partly Cloudy</td>\n      <td>rain</td>\n      <td>9.472222</td>\n      <td>7.388889</td>\n      <td>0.89</td>\n      <td>14.1197</td>\n      <td>251.0</td>\n      <td>15.8263</td>\n      <td>0.0</td>\n      <td>1015.13</td>\n      <td>Partly cloudy throughout the day.</td>\n    </tr>\n    <tr>\n      <th>1</th>\n      <td>2006-04-01 01:00:00.000 +0200</td>\n      <td>Partly Cloudy</td>\n      <td>rain</td>\n      <td>9.355556</td>\n      <td>7.227778</td>\n      <td>0.86</td>\n      <td>14.2646</td>\n      <td>259.0</td>\n      <td>15.8263</td>\n      <td>0.0</td>\n      <td>1015.63</td>\n      <td>Partly cloudy throughout the day.</td>\n    </tr>\n    <tr>\n      <th>2</th>\n      <td>2006-04-01 02:00:00.000 +0200</td>\n      <td>Mostly Cloudy</td>\n      <td>rain</td>\n      <td>9.377778</td>\n      <td>9.377778</td>\n      <td>0.89</td>\n      <td>3.9284</td>\n      <td>204.0</td>\n      <td>14.9569</td>\n      <td>0.0</td>\n      <td>1015.94</td>\n      <td>Partly cloudy throughout the day.</td>\n    </tr>\n    <tr>\n      <th>3</th>\n      <td>2006-04-01 03:00:00.000 +0200</td>\n      <td>Partly Cloudy</td>\n      <td>rain</td>\n      <td>8.288889</td>\n      <td>5.944444</td>\n      <td>0.83</td>\n      <td>14.1036</td>\n      <td>269.0</td>\n      <td>15.8263</td>\n      <td>0.0</td>\n      <td>1016.41</td>\n      <td>Partly cloudy throughout the day.</td>\n    </tr>\n    <tr>\n      <th>4</th>\n      <td>2006-04-01 04:00:00.000 +0200</td>\n      <td>Mostly Cloudy</td>\n      <td>rain</td>\n      <td>8.755556</td>\n      <td>6.977778</td>\n      <td>0.83</td>\n      <td>11.0446</td>\n      <td>259.0</td>\n      <td>15.8263</td>\n      <td>0.0</td>\n      <td>1016.51</td>\n      <td>Partly cloudy throughout the day.</td>\n    </tr>\n  </tbody>\n</table>\n</div>"
     },
     "metadata": {},
     "execution_count": 4
    }
   ],
   "source": [
    "df.head()"
   ]
  },
  {
   "cell_type": "code",
   "execution_count": 5,
   "metadata": {},
   "outputs": [],
   "source": [
    "df['Formatted Date'] = pd.to_datetime(df['Formatted Date'], utc=True)"
   ]
  },
  {
   "cell_type": "code",
   "execution_count": 6,
   "metadata": {},
   "outputs": [
    {
     "output_type": "execute_result",
     "data": {
      "text/plain": [
       "             Formatted Date        Summary Precip Type  Temperature (C)  \\\n",
       "0 2006-03-31 22:00:00+00:00  Partly Cloudy        rain         9.472222   \n",
       "1 2006-03-31 23:00:00+00:00  Partly Cloudy        rain         9.355556   \n",
       "2 2006-04-01 00:00:00+00:00  Mostly Cloudy        rain         9.377778   \n",
       "3 2006-04-01 01:00:00+00:00  Partly Cloudy        rain         8.288889   \n",
       "4 2006-04-01 02:00:00+00:00  Mostly Cloudy        rain         8.755556   \n",
       "\n",
       "   Apparent Temperature (C)  Humidity  Wind Speed (km/h)  \\\n",
       "0                  7.388889      0.89            14.1197   \n",
       "1                  7.227778      0.86            14.2646   \n",
       "2                  9.377778      0.89             3.9284   \n",
       "3                  5.944444      0.83            14.1036   \n",
       "4                  6.977778      0.83            11.0446   \n",
       "\n",
       "   Wind Bearing (degrees)  Visibility (km)  Loud Cover  Pressure (millibars)  \\\n",
       "0                   251.0          15.8263         0.0               1015.13   \n",
       "1                   259.0          15.8263         0.0               1015.63   \n",
       "2                   204.0          14.9569         0.0               1015.94   \n",
       "3                   269.0          15.8263         0.0               1016.41   \n",
       "4                   259.0          15.8263         0.0               1016.51   \n",
       "\n",
       "                       Daily Summary  \n",
       "0  Partly cloudy throughout the day.  \n",
       "1  Partly cloudy throughout the day.  \n",
       "2  Partly cloudy throughout the day.  \n",
       "3  Partly cloudy throughout the day.  \n",
       "4  Partly cloudy throughout the day.  "
      ],
      "text/html": "<div>\n<style scoped>\n    .dataframe tbody tr th:only-of-type {\n        vertical-align: middle;\n    }\n\n    .dataframe tbody tr th {\n        vertical-align: top;\n    }\n\n    .dataframe thead th {\n        text-align: right;\n    }\n</style>\n<table border=\"1\" class=\"dataframe\">\n  <thead>\n    <tr style=\"text-align: right;\">\n      <th></th>\n      <th>Formatted Date</th>\n      <th>Summary</th>\n      <th>Precip Type</th>\n      <th>Temperature (C)</th>\n      <th>Apparent Temperature (C)</th>\n      <th>Humidity</th>\n      <th>Wind Speed (km/h)</th>\n      <th>Wind Bearing (degrees)</th>\n      <th>Visibility (km)</th>\n      <th>Loud Cover</th>\n      <th>Pressure (millibars)</th>\n      <th>Daily Summary</th>\n    </tr>\n  </thead>\n  <tbody>\n    <tr>\n      <th>0</th>\n      <td>2006-03-31 22:00:00+00:00</td>\n      <td>Partly Cloudy</td>\n      <td>rain</td>\n      <td>9.472222</td>\n      <td>7.388889</td>\n      <td>0.89</td>\n      <td>14.1197</td>\n      <td>251.0</td>\n      <td>15.8263</td>\n      <td>0.0</td>\n      <td>1015.13</td>\n      <td>Partly cloudy throughout the day.</td>\n    </tr>\n    <tr>\n      <th>1</th>\n      <td>2006-03-31 23:00:00+00:00</td>\n      <td>Partly Cloudy</td>\n      <td>rain</td>\n      <td>9.355556</td>\n      <td>7.227778</td>\n      <td>0.86</td>\n      <td>14.2646</td>\n      <td>259.0</td>\n      <td>15.8263</td>\n      <td>0.0</td>\n      <td>1015.63</td>\n      <td>Partly cloudy throughout the day.</td>\n    </tr>\n    <tr>\n      <th>2</th>\n      <td>2006-04-01 00:00:00+00:00</td>\n      <td>Mostly Cloudy</td>\n      <td>rain</td>\n      <td>9.377778</td>\n      <td>9.377778</td>\n      <td>0.89</td>\n      <td>3.9284</td>\n      <td>204.0</td>\n      <td>14.9569</td>\n      <td>0.0</td>\n      <td>1015.94</td>\n      <td>Partly cloudy throughout the day.</td>\n    </tr>\n    <tr>\n      <th>3</th>\n      <td>2006-04-01 01:00:00+00:00</td>\n      <td>Partly Cloudy</td>\n      <td>rain</td>\n      <td>8.288889</td>\n      <td>5.944444</td>\n      <td>0.83</td>\n      <td>14.1036</td>\n      <td>269.0</td>\n      <td>15.8263</td>\n      <td>0.0</td>\n      <td>1016.41</td>\n      <td>Partly cloudy throughout the day.</td>\n    </tr>\n    <tr>\n      <th>4</th>\n      <td>2006-04-01 02:00:00+00:00</td>\n      <td>Mostly Cloudy</td>\n      <td>rain</td>\n      <td>8.755556</td>\n      <td>6.977778</td>\n      <td>0.83</td>\n      <td>11.0446</td>\n      <td>259.0</td>\n      <td>15.8263</td>\n      <td>0.0</td>\n      <td>1016.51</td>\n      <td>Partly cloudy throughout the day.</td>\n    </tr>\n  </tbody>\n</table>\n</div>"
     },
     "metadata": {},
     "execution_count": 6
    }
   ],
   "source": [
    "df.head()"
   ]
  },
  {
   "cell_type": "code",
   "execution_count": 7,
   "metadata": {},
   "outputs": [],
   "source": [
    "df['year'] = df['Formatted Date'].dt.year\n",
    "df['month'] = df['Formatted Date'].dt.month\n",
    "df['day'] = df['Formatted Date'].dt.day"
   ]
  },
  {
   "cell_type": "code",
   "execution_count": 8,
   "metadata": {},
   "outputs": [
    {
     "output_type": "execute_result",
     "data": {
      "text/plain": [
       "             Formatted Date        Summary Precip Type  Temperature (C)  \\\n",
       "0 2006-03-31 22:00:00+00:00  Partly Cloudy        rain         9.472222   \n",
       "1 2006-03-31 23:00:00+00:00  Partly Cloudy        rain         9.355556   \n",
       "2 2006-04-01 00:00:00+00:00  Mostly Cloudy        rain         9.377778   \n",
       "3 2006-04-01 01:00:00+00:00  Partly Cloudy        rain         8.288889   \n",
       "4 2006-04-01 02:00:00+00:00  Mostly Cloudy        rain         8.755556   \n",
       "\n",
       "   Apparent Temperature (C)  Humidity  Wind Speed (km/h)  \\\n",
       "0                  7.388889      0.89            14.1197   \n",
       "1                  7.227778      0.86            14.2646   \n",
       "2                  9.377778      0.89             3.9284   \n",
       "3                  5.944444      0.83            14.1036   \n",
       "4                  6.977778      0.83            11.0446   \n",
       "\n",
       "   Wind Bearing (degrees)  Visibility (km)  Loud Cover  Pressure (millibars)  \\\n",
       "0                   251.0          15.8263         0.0               1015.13   \n",
       "1                   259.0          15.8263         0.0               1015.63   \n",
       "2                   204.0          14.9569         0.0               1015.94   \n",
       "3                   269.0          15.8263         0.0               1016.41   \n",
       "4                   259.0          15.8263         0.0               1016.51   \n",
       "\n",
       "                       Daily Summary  year  month  day  \n",
       "0  Partly cloudy throughout the day.  2006      3   31  \n",
       "1  Partly cloudy throughout the day.  2006      3   31  \n",
       "2  Partly cloudy throughout the day.  2006      4    1  \n",
       "3  Partly cloudy throughout the day.  2006      4    1  \n",
       "4  Partly cloudy throughout the day.  2006      4    1  "
      ],
      "text/html": "<div>\n<style scoped>\n    .dataframe tbody tr th:only-of-type {\n        vertical-align: middle;\n    }\n\n    .dataframe tbody tr th {\n        vertical-align: top;\n    }\n\n    .dataframe thead th {\n        text-align: right;\n    }\n</style>\n<table border=\"1\" class=\"dataframe\">\n  <thead>\n    <tr style=\"text-align: right;\">\n      <th></th>\n      <th>Formatted Date</th>\n      <th>Summary</th>\n      <th>Precip Type</th>\n      <th>Temperature (C)</th>\n      <th>Apparent Temperature (C)</th>\n      <th>Humidity</th>\n      <th>Wind Speed (km/h)</th>\n      <th>Wind Bearing (degrees)</th>\n      <th>Visibility (km)</th>\n      <th>Loud Cover</th>\n      <th>Pressure (millibars)</th>\n      <th>Daily Summary</th>\n      <th>year</th>\n      <th>month</th>\n      <th>day</th>\n    </tr>\n  </thead>\n  <tbody>\n    <tr>\n      <th>0</th>\n      <td>2006-03-31 22:00:00+00:00</td>\n      <td>Partly Cloudy</td>\n      <td>rain</td>\n      <td>9.472222</td>\n      <td>7.388889</td>\n      <td>0.89</td>\n      <td>14.1197</td>\n      <td>251.0</td>\n      <td>15.8263</td>\n      <td>0.0</td>\n      <td>1015.13</td>\n      <td>Partly cloudy throughout the day.</td>\n      <td>2006</td>\n      <td>3</td>\n      <td>31</td>\n    </tr>\n    <tr>\n      <th>1</th>\n      <td>2006-03-31 23:00:00+00:00</td>\n      <td>Partly Cloudy</td>\n      <td>rain</td>\n      <td>9.355556</td>\n      <td>7.227778</td>\n      <td>0.86</td>\n      <td>14.2646</td>\n      <td>259.0</td>\n      <td>15.8263</td>\n      <td>0.0</td>\n      <td>1015.63</td>\n      <td>Partly cloudy throughout the day.</td>\n      <td>2006</td>\n      <td>3</td>\n      <td>31</td>\n    </tr>\n    <tr>\n      <th>2</th>\n      <td>2006-04-01 00:00:00+00:00</td>\n      <td>Mostly Cloudy</td>\n      <td>rain</td>\n      <td>9.377778</td>\n      <td>9.377778</td>\n      <td>0.89</td>\n      <td>3.9284</td>\n      <td>204.0</td>\n      <td>14.9569</td>\n      <td>0.0</td>\n      <td>1015.94</td>\n      <td>Partly cloudy throughout the day.</td>\n      <td>2006</td>\n      <td>4</td>\n      <td>1</td>\n    </tr>\n    <tr>\n      <th>3</th>\n      <td>2006-04-01 01:00:00+00:00</td>\n      <td>Partly Cloudy</td>\n      <td>rain</td>\n      <td>8.288889</td>\n      <td>5.944444</td>\n      <td>0.83</td>\n      <td>14.1036</td>\n      <td>269.0</td>\n      <td>15.8263</td>\n      <td>0.0</td>\n      <td>1016.41</td>\n      <td>Partly cloudy throughout the day.</td>\n      <td>2006</td>\n      <td>4</td>\n      <td>1</td>\n    </tr>\n    <tr>\n      <th>4</th>\n      <td>2006-04-01 02:00:00+00:00</td>\n      <td>Mostly Cloudy</td>\n      <td>rain</td>\n      <td>8.755556</td>\n      <td>6.977778</td>\n      <td>0.83</td>\n      <td>11.0446</td>\n      <td>259.0</td>\n      <td>15.8263</td>\n      <td>0.0</td>\n      <td>1016.51</td>\n      <td>Partly cloudy throughout the day.</td>\n      <td>2006</td>\n      <td>4</td>\n      <td>1</td>\n    </tr>\n  </tbody>\n</table>\n</div>"
     },
     "metadata": {},
     "execution_count": 8
    }
   ],
   "source": [
    "df.head()"
   ]
  },
  {
   "cell_type": "code",
   "execution_count": 9,
   "metadata": {},
   "outputs": [],
   "source": [
    "import numpy as np"
   ]
  },
  {
   "cell_type": "code",
   "execution_count": 10,
   "metadata": {},
   "outputs": [],
   "source": [
    "X = np.array(df[['Humidity', 'year', 'month', 'day', 'Pressure (millibars)', 'Visibility (km)', 'Wind Bearing (degrees)']])\n",
    "y = np.array(df['Temperature (C)'])"
   ]
  },
  {
   "source": [
    "Split data into training and testing"
   ],
   "cell_type": "markdown",
   "metadata": {}
  },
  {
   "cell_type": "code",
   "execution_count": 11,
   "metadata": {},
   "outputs": [],
   "source": [
    "from sklearn.model_selection import train_test_split"
   ]
  },
  {
   "cell_type": "code",
   "execution_count": 12,
   "metadata": {},
   "outputs": [],
   "source": [
    "X_train, X_test, y_train, y_test = train_test_split(X,y,test_size = 0.2, random_state = 42)"
   ]
  }
 ]
}