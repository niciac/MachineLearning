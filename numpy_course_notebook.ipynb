{
 "cells": [
  {
   "cell_type": "markdown",
   "metadata": {},
   "source": [
    "from: https://jalammar.github.io/visual-numpy/"
   ]
  },
  {
   "cell_type": "code",
   "execution_count": null,
   "metadata": {},
   "outputs": [],
   "source": [
    "import numpy as np"
   ]
  },
  {
   "cell_type": "code",
   "execution_count": null,
   "metadata": {},
   "outputs": [],
   "source": [
    "data = np.array([1,2,3])\n",
    "print(data.max(),'\\t',data.min())\n"
   ]
  },
  {
   "cell_type": "markdown",
   "metadata": {},
   "source": [
    "Trying out different ways to intialise numpy arrays"
   ]
  },
  {
   "cell_type": "code",
   "execution_count": null,
   "metadata": {},
   "outputs": [],
   "source": [
    "print(np.ones(3))\n",
    "print(np.zeros(3))\n",
    "print(np.random.random(3))\n",
    "print(np.random.randint(20)) # Range 0,20"
   ]
  },
  {
   "cell_type": "markdown",
   "metadata": {},
   "source": [
    "Array Arithemtic"
   ]
  },
  {
   "cell_type": "code",
   "execution_count": null,
   "metadata": {},
   "outputs": [],
   "source": [
    "data = np.array([1,2])\n",
    "ones = np.ones(2)\n",
    "\n",
    "print(data + ones)\n",
    "print(data - ones)\n",
    "print(data*ones)\n",
    "print(data/ones)\n",
    "print(data*1.6)"
   ]
  },
  {
   "cell_type": "markdown",
   "metadata": {},
   "source": [
    "Slicing"
   ]
  },
  {
   "cell_type": "code",
   "execution_count": null,
   "metadata": {},
   "outputs": [],
   "source": [
    "data = np.array([1,2,3]) # Back to the original definition of data\n",
    "\n",
    "print(data[0])\n",
    "print(data[1])\n",
    "print(data[0:2])\n",
    "print(data[1:])"
   ]
  },
  {
   "cell_type": "markdown",
   "metadata": {},
   "source": [
    "Aggregation"
   ]
  },
  {
   "cell_type": "code",
   "execution_count": null,
   "metadata": {},
   "outputs": [],
   "source": [
    "print(data.max())\n",
    "print(data.min())\n",
    "print(data.sum())\n",
    "print(data.mean())\n",
    "print(data.prod()) # product - multiplying all the elements together\n",
    "print(np.prod([1,2,3,4,5]))\n",
    "print(data.std())\n",
    "var = (((data[0]-data.mean())**2)+((data[1]-data.mean())**2)+((data[2]-data.mean())**2))/data.size\n",
    "print(var)\n",
    "std = np.sqrt(var)\n",
    "print(std)"
   ]
  },
  {
   "cell_type": "markdown",
   "metadata": {},
   "source": [
    "Matrices"
   ]
  },
  {
   "cell_type": "code",
   "execution_count": null,
   "metadata": {},
   "outputs": [],
   "source": [
    "print(np.array([[1,2],[3,4]]))\n",
    "print(np.ones([3,2]))\n",
    "print(np.zeros([3,2]))\n",
    "print(np.random.randint(0,20,[3,2]))"
   ]
  },
  {
   "cell_type": "markdown",
   "metadata": {},
   "source": [
    "Matrix Arithmetic"
   ]
  },
  {
   "cell_type": "code",
   "execution_count": null,
   "metadata": {},
   "outputs": [],
   "source": [
    "data = np.array([[1,2],[3,4]])\n",
    "ones = np.ones([2,2])\n",
    "\n",
    "\n",
    "print(data+ones,'\\n')\n",
    "\n",
    "data = np.array([[1,2],[3,4],[5,6]])\n",
    "ones_row = np.ones([1,2])\n",
    "\n",
    "print(ones_row,'\\n')\n",
    "\n",
    "data+ones_row"
   ]
  },
  {
   "cell_type": "markdown",
   "metadata": {},
   "source": [
    "Dot Product"
   ]
  },
  {
   "cell_type": "code",
   "execution_count": null,
   "metadata": {},
   "outputs": [],
   "source": [
    "powers_of_ten = np.array([[10**0,10**1],[10**2,10**3],[10**4,10**5]])\n",
    "data = np.array([1,2,3])\n",
    "\n",
    "data.dot(powers_of_ten)"
   ]
  },
  {
   "cell_type": "markdown",
   "metadata": {},
   "source": [
    "Matrix Aggregation - Same as vectors"
   ]
  },
  {
   "cell_type": "code",
   "execution_count": null,
   "metadata": {},
   "outputs": [],
   "source": [
    "data = np.array([[1,2,],[3,4],[5,6]])\n",
    "print(data.max())\n",
    "print(data.min())\n",
    "print(data.sum())"
   ]
  },
  {
   "cell_type": "code",
   "execution_count": null,
   "metadata": {},
   "outputs": [],
   "source": [
    "print(data.max(axis=0))\n",
    "print(data.max(axis=1))"
   ]
  },
  {
   "cell_type": "markdown",
   "metadata": {},
   "source": [
    "Transposing and Reshaping"
   ]
  },
  {
   "cell_type": "code",
   "execution_count": null,
   "metadata": {},
   "outputs": [],
   "source": [
    "print(data,'\\n')\n",
    "print(data.T,'\\n')"
   ]
  },
  {
   "cell_type": "markdown",
   "metadata": {},
   "source": [
    "Reshaping"
   ]
  },
  {
   "cell_type": "code",
   "execution_count": null,
   "metadata": {},
   "outputs": [],
   "source": [
    "data = np.array([1,2,3,4,5,6])\n",
    "print(data,'\\n')\n",
    "print(data.reshape(2,3),'\\n')\n",
    "print(data.reshape(3,2),'\\n')"
   ]
  },
  {
   "cell_type": "markdown",
   "metadata": {},
   "source": [
    "Adding a third dimension"
   ]
  },
  {
   "cell_type": "code",
   "execution_count": null,
   "metadata": {},
   "outputs": [],
   "source": [
    "data = np.array([[[1,2],[3,4]],[[6,7],[8,9]]])\n",
    "print(data,'\\n')\n",
    "print(np.ones((4,3,2)))\n",
    "print(np.zeros((4,3,2)))\n",
    "print(np.random.randint(0,100,(4,3,2)))\n"
   ]
  },
  {
   "cell_type": "markdown",
   "metadata": {},
   "source": [
    "Mean Square Error Implementation\n",
    "    "
   ]
  },
  {
   "cell_type": "markdown",
   "metadata": {},
   "source": [
    "error = (1/n)*np.sum(np.square(predictions-labels))"
   ]
  }
 ],
 "metadata": {
  "interpreter": {
   "hash": "555eb2bc19ceb6642323a51f444ff1946d1cbef2eb8cd5fd8fcdf090cdb24e43"
  },
  "kernelspec": {
   "display_name": "Python 3.9.0 ('ml_env': venv)",
   "language": "python",
   "name": "python3"
  },
  "language_info": {
   "codemirror_mode": {
    "name": "ipython",
    "version": 3
   },
   "file_extension": ".py",
   "mimetype": "text/x-python",
   "name": "python",
   "nbconvert_exporter": "python",
   "pygments_lexer": "ipython3",
   "version": "3.9.0"
  }
 },
 "nbformat": 4,
 "nbformat_minor": 2
}
