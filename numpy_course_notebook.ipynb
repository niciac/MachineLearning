{
 "metadata": {
  "language_info": {
   "codemirror_mode": {
    "name": "ipython",
    "version": 3
   },
   "file_extension": ".py",
   "mimetype": "text/x-python",
   "name": "python",
   "nbconvert_exporter": "python",
   "pygments_lexer": "ipython3",
   "version": "3.9.0-final"
  },
  "orig_nbformat": 2,
  "kernelspec": {
   "name": "python390jvsc74a57bd0aee8b7b246df8f9039afb4144a1f6fd8d2ca17a180786b69acc140d282b71a49",
   "display_name": "Python 3.9.0 64-bit"
  }
 },
 "nbformat": 4,
 "nbformat_minor": 2,
 "cells": [
  {
   "source": [
    "from: https://jalammar.github.io/visual-numpy/"
   ],
   "cell_type": "markdown",
   "metadata": {}
  },
  {
   "cell_type": "code",
   "execution_count": 2,
   "metadata": {},
   "outputs": [],
   "source": [
    "import numpy as np"
   ]
  },
  {
   "cell_type": "code",
   "execution_count": 3,
   "metadata": {},
   "outputs": [
    {
     "output_type": "stream",
     "name": "stdout",
     "text": [
      "3 \t 1\n"
     ]
    }
   ],
   "source": [
    "data = np.array([1,2,3])\n",
    "print(data.max(),'\\t',data.min())\n"
   ]
  },
  {
   "source": [
    "Trying out different ways to intialise numpy arrays"
   ],
   "cell_type": "markdown",
   "metadata": {}
  },
  {
   "cell_type": "code",
   "execution_count": 4,
   "metadata": {},
   "outputs": [
    {
     "output_type": "stream",
     "name": "stdout",
     "text": [
      "[1. 1. 1.]\n[0. 0. 0.]\n[0.13738586 0.05626196 0.79556932]\n13\n"
     ]
    }
   ],
   "source": [
    "print(np.ones(3))\n",
    "print(np.zeros(3))\n",
    "print(np.random.random(3))\n",
    "print(np.random.randint(20)) # Range 0,20"
   ]
  },
  {
   "source": [
    "Array Arithemtic"
   ],
   "cell_type": "markdown",
   "metadata": {}
  },
  {
   "cell_type": "code",
   "execution_count": 5,
   "metadata": {},
   "outputs": [
    {
     "output_type": "stream",
     "name": "stdout",
     "text": [
      "[2. 3.]\n[0. 1.]\n[1. 2.]\n[1. 2.]\n[1.6 3.2]\n"
     ]
    }
   ],
   "source": [
    "data = np.array([1,2])\n",
    "ones = np.ones(2)\n",
    "\n",
    "print(data + ones)\n",
    "print(data - ones)\n",
    "print(data*ones)\n",
    "print(data/ones)\n",
    "print(data*1.6)"
   ]
  },
  {
   "source": [
    "Slicing"
   ],
   "cell_type": "markdown",
   "metadata": {}
  },
  {
   "cell_type": "code",
   "execution_count": 10,
   "metadata": {},
   "outputs": [
    {
     "output_type": "stream",
     "name": "stdout",
     "text": [
      "1\n2\n[1 2]\n[2 3]\n"
     ]
    }
   ],
   "source": [
    "data = np.array([1,2,3]) # Back to the original definition of data\n",
    "\n",
    "print(data[0])\n",
    "print(data[1])\n",
    "print(data[0:2])\n",
    "print(data[1:])"
   ]
  },
  {
   "source": [
    "Aggregation"
   ],
   "cell_type": "markdown",
   "metadata": {}
  },
  {
   "cell_type": "code",
   "execution_count": 28,
   "metadata": {},
   "outputs": [
    {
     "output_type": "stream",
     "name": "stdout",
     "text": [
      "3\n1\n6\n2.0\n6\n120\n0.816496580927726\n0.6666666666666666\n0.816496580927726\n"
     ]
    }
   ],
   "source": [
    "print(data.max())\n",
    "print(data.min())\n",
    "print(data.sum())\n",
    "print(data.mean())\n",
    "print(data.prod()) # product - multiplying all the elements together\n",
    "print(np.prod([1,2,3,4,5]))\n",
    "print(data.std())\n",
    "var = (((data[0]-data.mean())**2)+((data[1]-data.mean())**2)+((data[2]-data.mean())**2))/data.size\n",
    "print(var)\n",
    "std = np.sqrt(var)\n",
    "print(std)"
   ]
  },
  {
   "source": [
    "Matrices"
   ],
   "cell_type": "markdown",
   "metadata": {}
  },
  {
   "cell_type": "code",
   "execution_count": 44,
   "metadata": {},
   "outputs": [
    {
     "output_type": "stream",
     "name": "stdout",
     "text": [
      "[[1 2]\n [3 4]]\n[[1. 1.]\n [1. 1.]\n [1. 1.]]\n[[0. 0.]\n [0. 0.]\n [0. 0.]]\n[[ 8 16]\n [ 0  7]\n [12  7]]\n"
     ]
    }
   ],
   "source": [
    "print(np.array([[1,2],[3,4]]))\n",
    "print(np.ones([3,2]))\n",
    "print(np.zeros([3,2]))\n",
    "print(np.random.randint(0,20,[3,2]))"
   ]
  },
  {
   "source": [
    "Matrix Arithmetic"
   ],
   "cell_type": "markdown",
   "metadata": {}
  },
  {
   "cell_type": "code",
   "execution_count": 53,
   "metadata": {},
   "outputs": [
    {
     "output_type": "stream",
     "name": "stdout",
     "text": [
      "[[2. 3.]\n [4. 5.]] \n\n[[1. 1.]] \n\n"
     ]
    },
    {
     "output_type": "execute_result",
     "data": {
      "text/plain": [
       "array([[2., 3.],\n",
       "       [4., 5.],\n",
       "       [6., 7.]])"
      ]
     },
     "metadata": {},
     "execution_count": 53
    }
   ],
   "source": [
    "data = np.array([[1,2],[3,4]])\n",
    "ones = np.ones([2,2])cobhc1993.\n",
    "\n",
    "\n",
    "print(data+ones,'\\n')\n",
    "\n",
    "data = np.array([[1,2],[3,4],[5,6]])\n",
    "ones_row = np.ones([1,2])\n",
    "\n",
    "print(ones_row,'\\n')\n",
    "\n",
    "data+ones_row"
   ]
  },
  {
   "source": [
    "Dot Product"
   ],
   "cell_type": "markdown",
   "metadata": {}
  },
  {
   "cell_type": "code",
   "execution_count": 7,
   "metadata": {},
   "outputs": [
    {
     "output_type": "execute_result",
     "data": {
      "text/plain": [
       "array([ 30201, 302010])"
      ]
     },
     "metadata": {},
     "execution_count": 7
    }
   ],
   "source": [
    "powers_of_ten = np.array([[10**0,10**1],[10**2,10**3],[10**4,10**5]])\n",
    "data = np.array([1,2,3])\n",
    "\n",
    "data.dot(powers_of_ten)"
   ]
  },
  {
   "source": [
    "Matrix Aggregation - Same as vectors"
   ],
   "cell_type": "markdown",
   "metadata": {}
  },
  {
   "cell_type": "code",
   "execution_count": 13,
   "metadata": {},
   "outputs": [
    {
     "output_type": "stream",
     "name": "stdout",
     "text": [
      "6\n1\n21\n"
     ]
    }
   ],
   "source": [
    "data = np.array([[1,2,],[3,4],[5,6]])\n",
    "print(data.max())\n",
    "print(data.min())\n",
    "print(data.sum())"
   ]
  },
  {
   "cell_type": "code",
   "execution_count": 16,
   "metadata": {},
   "outputs": [
    {
     "output_type": "stream",
     "name": "stdout",
     "text": [
      "[5 6]\n[2 4 6]\n"
     ]
    }
   ],
   "source": [
    "print(data.max(axis=0))\n",
    "print(data.max(axis=1))"
   ]
  },
  {
   "source": [
    "Transposing and Reshaping"
   ],
   "cell_type": "markdown",
   "metadata": {}
  },
  {
   "cell_type": "code",
   "execution_count": 22,
   "metadata": {},
   "outputs": [
    {
     "output_type": "stream",
     "name": "stdout",
     "text": [
      "[[1 2]\n [3 4]\n [5 6]] \n\n[[1 3 5]\n [2 4 6]] \n\n"
     ]
    }
   ],
   "source": [
    "print(data,'\\n')\n",
    "print(data.T,'\\n')"
   ]
  },
  {
   "source": [
    "Reshaping"
   ],
   "cell_type": "markdown",
   "metadata": {}
  },
  {
   "cell_type": "code",
   "execution_count": 28,
   "metadata": {},
   "outputs": [
    {
     "output_type": "stream",
     "name": "stdout",
     "text": [
      "[1 2 3 4 5 6] \n\n[[1 2 3]\n [4 5 6]] \n\n[[1 2]\n [3 4]\n [5 6]] \n\n"
     ]
    }
   ],
   "source": [
    "data = np.array([1,2,3,4,5,6])\n",
    "print(data,'\\n')\n",
    "print(data.reshape(2,3),'\\n')\n",
    "print(data.reshape(3,2),'\\n')"
   ]
  },
  {
   "source": [
    "Adding a third dimension"
   ],
   "cell_type": "markdown",
   "metadata": {}
  },
  {
   "cell_type": "code",
   "execution_count": 39,
   "metadata": {},
   "outputs": [
    {
     "output_type": "stream",
     "name": "stdout",
     "text": [
      "[[[1 2]\n  [3 4]]\n\n [[6 7]\n  [8 9]]] \n\n[[[1. 1.]\n  [1. 1.]\n  [1. 1.]]\n\n [[1. 1.]\n  [1. 1.]\n  [1. 1.]]\n\n [[1. 1.]\n  [1. 1.]\n  [1. 1.]]\n\n [[1. 1.]\n  [1. 1.]\n  [1. 1.]]]\n[[[0. 0.]\n  [0. 0.]\n  [0. 0.]]\n\n [[0. 0.]\n  [0. 0.]\n  [0. 0.]]\n\n [[0. 0.]\n  [0. 0.]\n  [0. 0.]]\n\n [[0. 0.]\n  [0. 0.]\n  [0. 0.]]]\n[[[71 81]\n  [96 13]\n  [55 67]]\n\n [[90 57]\n  [89 44]\n  [ 3 13]]\n\n [[37 96]\n  [66  2]\n  [89 57]]\n\n [[28 62]\n  [14 21]\n  [79 60]]]\n"
     ]
    }
   ],
   "source": [
    "data = np.array([[[1,2],[3,4]],[[6,7],[8,9]]])\n",
    "print(data,'\\n')\n",
    "print(np.ones((4,3,2)))\n",
    "print(np.zeros((4,3,2)))\n",
    "print(np.random.randint(0,100,(4,3,2)))\n"
   ]
  },
  {
   "source": [
    "Mean Square Error Implementation\n",
    "    "
   ],
   "cell_type": "markdown",
   "metadata": {}
  },
  {
   "source": [
    "error = (1/n)*np.sum(np.square(predictions-labels))"
   ],
   "cell_type": "markdown",
   "metadata": {}
  }
 ]
}